{
 "cells": [
  {
   "cell_type": "code",
   "execution_count": 154,
   "metadata": {},
   "outputs": [],
   "source": [
    "import random\n",
    "import nltk"
   ]
  },
  {
   "cell_type": "code",
   "execution_count": 93,
   "metadata": {},
   "outputs": [],
   "source": [
    "BOT_CONFIG = {\n",
    "    'intents': {\n",
    "\n",
    "        'hello': {\n",
    "            'examples': ['Привет', 'Добрый день', 'Шалом', 'Привет, бот'],\n",
    "            'responses': ['Привет, человек!', 'И вам здравствуйте :)', 'Доброго времени суток']\n",
    "        },\n",
    "        'bye': {\n",
    "            'examples': ['Пока', 'Досвидания', 'До свидания', 'До скорой встречи'],\n",
    "            'responses': ['Еще увидимся', 'Если что, я всегда тут']\n",
    "        },\n",
    "        'name': {\n",
    "            'examples': ['Как тебя зовут?', 'Скажи свое имя', 'Представься'],\n",
    "            'responses': ['Меня зовут Саша']\n",
    "        },\n",
    "\n",
    "    },\n",
    "\n",
    "    'failure_phrases': [\n",
    "        'Непонятно. Перефразируйте, пожалуйста.',\n",
    "        'Я еще только учусь. Спросите что-нибудь другое',\n",
    "        'Слишком сложный вопрос для меня.',\n",
    "    ]\n",
    "}"
   ]
  },
  {
   "cell_type": "code",
   "execution_count": 143,
   "metadata": {},
   "outputs": [],
   "source": [
    "def clear_phrase(phrase):\n",
    "    phrase = phrase.lower()\n",
    "\n",
    "    alphabet = 'абвгдеёжзийклмнопрстуфхцчшщъыьэюя- '\n",
    "    result = ''.join(symbol for symbol in phrase if symbol in alphabet)\n",
    "\n",
    "#     result = ''\n",
    "#     for symbol in phrase:\n",
    "#         if symbol in alphabet:\n",
    "#             result += symbol\n",
    "\n",
    "    return result"
   ]
  },
  {
   "cell_type": "code",
   "execution_count": 165,
   "metadata": {},
   "outputs": [],
   "source": [
    "def classify_intent(replica):\n",
    "    # TODO use ML!\n",
    "    \n",
    "    replica = clear_phrase(replica)\n",
    "\n",
    "    for intent, intent_data in BOT_CONFIG['intents'].items():\n",
    "        for example in intent_data['examples']:\n",
    "            example = clear_phrase(example)\n",
    "\n",
    "            distance = nltk.edit_distance(replica, example)\n",
    "            if distance / len(example) < 0.4:\n",
    "                return intent"
   ]
  },
  {
   "cell_type": "code",
   "execution_count": 122,
   "metadata": {},
   "outputs": [],
   "source": [
    "def get_answer_by_intent(intent):\n",
    "    if intent in BOT_CONFIG['intents']:\n",
    "        responses = BOT_CONFIG['intents'][intent]['responses']\n",
    "        return random.choice(responses)"
   ]
  },
  {
   "cell_type": "code",
   "execution_count": 123,
   "metadata": {},
   "outputs": [],
   "source": [
    "def generate_answer(replica):\n",
    "    # TODO на 3й день\n",
    "    return"
   ]
  },
  {
   "cell_type": "code",
   "execution_count": 124,
   "metadata": {},
   "outputs": [],
   "source": [
    "def get_failure_phrase():\n",
    "    failure_phrases = BOT_CONFIG['failure_phrases']\n",
    "    return random.choice(failure_phrases)"
   ]
  },
  {
   "cell_type": "code",
   "execution_count": 125,
   "metadata": {},
   "outputs": [],
   "source": [
    "def bot(replica):\n",
    "    # NLU\n",
    "    intent = classify_intent(replica)\n",
    "\n",
    "    # Answer generation\n",
    "    \n",
    "    # выбор заготовленной реплики\n",
    "    if intent:\n",
    "        answer = get_answer_by_intent(intent)\n",
    "        if answer:\n",
    "            return answer\n",
    "\n",
    "    # вызов генеративной модели\n",
    "    answer = generate_answer(replica)\n",
    "    if answer:\n",
    "        return answer\n",
    "    \n",
    "    # берем заглушку\n",
    "    return get_failure_phrase()"
   ]
  },
  {
   "cell_type": "code",
   "execution_count": 164,
   "metadata": {},
   "outputs": [
    {
     "data": {
      "text/plain": [
       "'Привет, человек!'"
      ]
     },
     "execution_count": 164,
     "metadata": {},
     "output_type": "execute_result"
    }
   ],
   "source": [
    "bot('добрый вечер')"
   ]
  },
  {
   "cell_type": "code",
   "execution_count": null,
   "metadata": {},
   "outputs": [],
   "source": []
  },
  {
   "cell_type": "code",
   "execution_count": null,
   "metadata": {},
   "outputs": [],
   "source": []
  }
 ],
 "metadata": {
  "kernelspec": {
   "display_name": "Python 3",
   "language": "python",
   "name": "python3"
  },
  "language_info": {
   "codemirror_mode": {
    "name": "ipython",
    "version": 3
   },
   "file_extension": ".py",
   "mimetype": "text/x-python",
   "name": "python",
   "nbconvert_exporter": "python",
   "pygments_lexer": "ipython3",
   "version": "3.7.6"
  }
 },
 "nbformat": 4,
 "nbformat_minor": 4
}
